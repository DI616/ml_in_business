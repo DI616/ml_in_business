{
 "cells": [
  {
   "cell_type": "code",
   "execution_count": 1,
   "id": "offensive-maple",
   "metadata": {},
   "outputs": [
    {
     "name": "stderr",
     "output_type": "stream",
     "text": [
      "/home/valentine/anaconda3/lib/python3.8/site-packages/sklearn/utils/deprecation.py:143: FutureWarning: The sklearn.metrics.scorer module is  deprecated in version 0.22 and will be removed in version 0.24. The corresponding classes / functions should instead be imported from sklearn.metrics. Anything that cannot be imported from sklearn.metrics is now part of the private API.\n",
      "  warnings.warn(message, FutureWarning)\n"
     ]
    }
   ],
   "source": [
    "import pandas as pd\n",
    "from sklearn.metrics import roc_auc_score,roc_curve,scorer\n",
    "from urllib import request, parse"
   ]
  },
  {
   "cell_type": "code",
   "execution_count": 2,
   "id": "grateful-anthropology",
   "metadata": {},
   "outputs": [],
   "source": [
    "import urllib.request\n",
    "import json      \n",
    "\n",
    "def get_prediction(arr):\n",
    "    \n",
    "    body = {'MinTemp': '', 'MaxTemp': '', 'Rainfall': '', 'WindGustDir': '', 'WindGustSpeed': '',\n",
    "            'WindDir9am': '', 'WindDir3pm': '', 'WindSpeed9am': '', 'WindSpeed3pm': '', 'Humidity9am': '',\n",
    "            'Humidity3pm': '', 'Pressure9am': '', 'Pressure3pm': '', 'Temp9am': '', 'Temp3pm': '',\n",
    "            'RainToday': ''} \n",
    "    \n",
    "    for key, val in zip(body, arr):\n",
    "        body[key] = val\n",
    "\n",
    "    myurl = \"http://0.0.0.0:8180/predict\"\n",
    "    print(body)\n",
    "    req = urllib.request.Request(myurl)\n",
    "    req.add_header('Content-Type', 'application/json; charset=utf-8')\n",
    "    jsondata = json.dumps(body)\n",
    "    jsondataasbytes = jsondata.encode('utf-8')\n",
    "    req.add_header('Content-Length', len(jsondataasbytes))\n",
    "    response = urllib.request.urlopen(req, jsondataasbytes)\n",
    "    return json.loads(response.read())['predictions']"
   ]
  },
  {
   "cell_type": "code",
   "execution_count": 3,
   "id": "weighted-prefix",
   "metadata": {},
   "outputs": [
    {
     "name": "stdout",
     "output_type": "stream",
     "text": [
      "{'MinTemp': 9.2, 'MaxTemp': 28.0, 'Rainfall': 0.0, 'WindGustDir': 'NE', 'WindGustSpeed': 24.0, 'WindDir9am': 'SE', 'WindDir3pm': 'E', 'WindSpeed9am': 11.0, 'WindSpeed3pm': 9.0, 'Humidity9am': 45.0, 'Humidity3pm': 16.0, 'Pressure9am': 1017.6, 'Pressure3pm': 1012.8, 'Temp9am': 18.1, 'Temp3pm': 26.5, 'RainToday': 'No'}\n"
     ]
    },
    {
     "data": {
      "text/plain": [
       "0.04651788795229252"
      ]
     },
     "execution_count": 3,
     "metadata": {},
     "output_type": "execute_result"
    }
   ],
   "source": [
    "get_prediction([9.2, 28.0, 0.0, 'NE', 24.0, 'SE', 'E', 11.0, 9.0, 45.0, 16.0, 1017.6, 1012.8, 18.1, 26.5, 'No'])"
   ]
  }
 ],
 "metadata": {
  "kernelspec": {
   "display_name": "Python 3",
   "language": "python",
   "name": "python3"
  },
  "language_info": {
   "codemirror_mode": {
    "name": "ipython",
    "version": 3
   },
   "file_extension": ".py",
   "mimetype": "text/x-python",
   "name": "python",
   "nbconvert_exporter": "python",
   "pygments_lexer": "ipython3",
   "version": "3.8.5"
  }
 },
 "nbformat": 4,
 "nbformat_minor": 5
}
