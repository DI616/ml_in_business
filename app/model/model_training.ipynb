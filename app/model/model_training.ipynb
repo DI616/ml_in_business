{
 "cells": [
  {
   "cell_type": "code",
   "execution_count": 1,
   "id": "governmental-recording",
   "metadata": {},
   "outputs": [],
   "source": [
    "import numpy as np\n",
    "import pandas as pd\n",
    "import seaborn as sns \n",
    "import dill\n",
    "\n",
    "import matplotlib.pyplot as plt\n",
    "%matplotlib inline\n",
    "\n",
    "from sklearn.base import BaseEstimator, TransformerMixin\n",
    "from sklearn.ensemble import RandomForestClassifier\n",
    "from sklearn.preprocessing import StandardScaler, LabelBinarizer,OneHotEncoder\n",
    "from sklearn.model_selection import train_test_split\n",
    "from sklearn.model_selection import cross_val_score\n",
    "from sklearn.model_selection import KFold\n",
    "from sklearn.metrics import confusion_matrix, accuracy_score\n",
    "from sklearn.metrics import precision_score, recall_score, f1_score\n",
    "from sklearn.pipeline import Pipeline, FeatureUnion"
   ]
  },
  {
   "cell_type": "code",
   "execution_count": 2,
   "id": "athletic-infrared",
   "metadata": {},
   "outputs": [],
   "source": [
    "df = pd.read_csv('./weatherAUS.csv')"
   ]
  },
  {
   "cell_type": "code",
   "execution_count": 3,
   "id": "funded-worth",
   "metadata": {},
   "outputs": [],
   "source": [
    "df.drop(['Date'], axis=1, inplace=True)\n",
    "df.drop(['Location'], axis=1, inplace=True)"
   ]
  },
  {
   "cell_type": "code",
   "execution_count": 4,
   "id": "rural-customs",
   "metadata": {},
   "outputs": [],
   "source": [
    "percent_zeros = (df.isnull().sum() / df.isnull().count())\n",
    "df.drop(list(percent_zeros.loc[percent_zeros > 0.15].index), axis=1, inplace=True)\n",
    "df.dropna(inplace=True)"
   ]
  },
  {
   "cell_type": "code",
   "execution_count": 5,
   "id": "level-indiana",
   "metadata": {},
   "outputs": [],
   "source": [
    "class FeatureSelector(BaseEstimator, TransformerMixin):\n",
    "    def __init__(self, column):\n",
    "        self.column = column\n",
    "\n",
    "    def fit(self, X, y=None):\n",
    "        return self\n",
    "\n",
    "    def transform(self, X, y=None):\n",
    "        return X[self.column]\n",
    "    \n",
    "class NumberSelector(BaseEstimator, TransformerMixin):\n",
    "    \"\"\"\n",
    "    Transformer to select a single column from the data frame to perform additional transformations on\n",
    "    Use on numeric columns in the data\n",
    "    \"\"\"\n",
    "    def __init__(self, key):\n",
    "        self.key = key\n",
    "\n",
    "    def fit(self, X, y=None):\n",
    "        return self\n",
    "\n",
    "    def transform(self, X):\n",
    "        return X[[self.key]]\n",
    "    \n",
    "class OHEEncoder(BaseEstimator, TransformerMixin):\n",
    "    def __init__(self, key):\n",
    "        self.key = key\n",
    "        self.columns = []\n",
    "\n",
    "    def fit(self, X, y=None):\n",
    "        self.columns = [col for col in pd.get_dummies(X, prefix=self.key).columns]\n",
    "        return self\n",
    "\n",
    "    def transform(self, X):\n",
    "        X = pd.get_dummies(X, prefix=self.key)\n",
    "        test_columns = [col for col in X.columns]\n",
    "        for col_ in self.columns:\n",
    "            if col_ not in test_columns:\n",
    "                X[col_] = 0\n",
    "        return X[self.columns]\n",
    "    \n",
    "class MyLabelBinarizer(TransformerMixin):\n",
    "    def __init__(self):\n",
    "        self.encoder = LabelBinarizer()\n",
    "        \n",
    "    def fit(self, X, y=0):\n",
    "        self.encoder.fit(X.astype(str))\n",
    "        return self\n",
    "    \n",
    "    def transform(self, X, y=0):\n",
    "        return self.encoder.transform(X.astype(str))"
   ]
  },
  {
   "cell_type": "code",
   "execution_count": 6,
   "id": "signed-module",
   "metadata": {},
   "outputs": [],
   "source": [
    "categorical_columns = ['WindGustDir','WindDir9am','WindDir3pm']\n",
    "continuous_columns = df.columns.drop(categorical_columns).tolist()\n",
    "continuous_columns.remove('RainToday')\n",
    "continuous_columns.remove('RainTomorrow')"
   ]
  },
  {
   "cell_type": "code",
   "execution_count": 7,
   "id": "fifth-picnic",
   "metadata": {},
   "outputs": [],
   "source": [
    "final_transformers = list()\n",
    "\n",
    "for cat_col in categorical_columns:\n",
    "    cat_transformer = Pipeline([\n",
    "                ('selector', FeatureSelector(column=cat_col)),\n",
    "                ('ohe', OHEEncoder(key=cat_col))\n",
    "            ])\n",
    "    final_transformers.append((cat_col, cat_transformer))\n",
    "    \n",
    "for cont_col in continuous_columns:\n",
    "    cont_transformer = Pipeline([\n",
    "                ('selector', NumberSelector(key=cont_col))\n",
    "            ])\n",
    "    final_transformers.append((cont_col, cont_transformer))\n",
    "    \n",
    "\n",
    "bin_transformer = Pipeline([\n",
    "                 ('selector', FeatureSelector(column='RainToday')),\n",
    "                 ('binarizer', MyLabelBinarizer())\n",
    "             ])\n",
    "\n",
    "final_transformers.append(('RainToday', bin_transformer))\n",
    "    \n",
    "feats = FeatureUnion(final_transformers)"
   ]
  },
  {
   "cell_type": "code",
   "execution_count": 8,
   "id": "complex-hampshire",
   "metadata": {},
   "outputs": [],
   "source": [
    "pipeline = Pipeline([\n",
    "    ('features', feats),\n",
    "    ('classifier', RandomForestClassifier(criterion='gini',\n",
    "                                          max_depth=10, \n",
    "                                          max_features='auto',\n",
    "                                          n_estimators=200))\n",
    "])"
   ]
  },
  {
   "cell_type": "code",
   "execution_count": 9,
   "id": "serious-surname",
   "metadata": {},
   "outputs": [],
   "source": [
    "df['RainTomorrow'] = df['RainTomorrow'].astype(str)\n",
    "\n",
    "lb = LabelBinarizer()\n",
    "\n",
    "df['RainTomorrow'] = lb.fit_transform(df['RainTomorrow'])"
   ]
  },
  {
   "cell_type": "code",
   "execution_count": 10,
   "id": "fixed-worry",
   "metadata": {},
   "outputs": [],
   "source": [
    "y = df['RainTomorrow']\n",
    "X = df.drop(['RainTomorrow'], axis=1)"
   ]
  },
  {
   "cell_type": "code",
   "execution_count": 11,
   "id": "wanted-czech",
   "metadata": {},
   "outputs": [],
   "source": [
    "X_train, X_test, y_train, y_test = train_test_split(X, y, test_size=0.3)"
   ]
  },
  {
   "cell_type": "code",
   "execution_count": 12,
   "id": "forty-country",
   "metadata": {
    "scrolled": false
   },
   "outputs": [
    {
     "data": {
      "text/plain": [
       "Pipeline(steps=[('features',\n",
       "                 FeatureUnion(transformer_list=[('WindGustDir',\n",
       "                                                 Pipeline(steps=[('selector',\n",
       "                                                                  FeatureSelector(column='WindGustDir')),\n",
       "                                                                 ('ohe',\n",
       "                                                                  OHEEncoder(key='WindGustDir'))])),\n",
       "                                                ('WindDir9am',\n",
       "                                                 Pipeline(steps=[('selector',\n",
       "                                                                  FeatureSelector(column='WindDir9am')),\n",
       "                                                                 ('ohe',\n",
       "                                                                  OHEEncoder(key='WindDir9am'))])),\n",
       "                                                ('WindDir3pm',\n",
       "                                                 Pipeline(steps=[('selector',\n",
       "                                                                  Featur...\n",
       "                                                 Pipeline(steps=[('selector',\n",
       "                                                                  NumberSelector(key='Temp9am'))])),\n",
       "                                                ('Temp3pm',\n",
       "                                                 Pipeline(steps=[('selector',\n",
       "                                                                  NumberSelector(key='Temp3pm'))])),\n",
       "                                                ('RainToday',\n",
       "                                                 Pipeline(steps=[('selector',\n",
       "                                                                  FeatureSelector(column='RainToday')),\n",
       "                                                                 ('binarizer',\n",
       "                                                                  <__main__.MyLabelBinarizer object at 0x7f3cb3268040>)]))])),\n",
       "                ('classifier',\n",
       "                 RandomForestClassifier(max_depth=10, n_estimators=200))])"
      ]
     },
     "execution_count": 12,
     "metadata": {},
     "output_type": "execute_result"
    }
   ],
   "source": [
    "pipeline.fit(X_train, y_train)"
   ]
  },
  {
   "cell_type": "code",
   "execution_count": 13,
   "id": "blocked-colors",
   "metadata": {},
   "outputs": [
    {
     "data": {
      "text/plain": [
       "0.8617531342112921"
      ]
     },
     "execution_count": 13,
     "metadata": {},
     "output_type": "execute_result"
    }
   ],
   "source": [
    "pipeline.score(X_train, y_train)"
   ]
  },
  {
   "cell_type": "code",
   "execution_count": 14,
   "id": "persistent-patent",
   "metadata": {},
   "outputs": [
    {
     "data": {
      "text/plain": [
       "0.849666450203672"
      ]
     },
     "execution_count": 14,
     "metadata": {},
     "output_type": "execute_result"
    }
   ],
   "source": [
    "y_pred = pipeline.predict(X_test)\n",
    "accuracy_score(y_test, y_pred)"
   ]
  },
  {
   "cell_type": "code",
   "execution_count": 15,
   "id": "exceptional-dakota",
   "metadata": {},
   "outputs": [
    {
     "data": {
      "text/plain": [
       "0.5553130184231205"
      ]
     },
     "execution_count": 15,
     "metadata": {},
     "output_type": "execute_result"
    }
   ],
   "source": [
    "f1_score(y_test, y_pred)"
   ]
  },
  {
   "cell_type": "code",
   "execution_count": 16,
   "id": "upper-category",
   "metadata": {},
   "outputs": [],
   "source": [
    "with open('random_forest_pipeline.dill', 'wb') as f:\n",
    "    dill.dump(pipeline, f)"
   ]
  }
 ],
 "metadata": {
  "kernelspec": {
   "display_name": "Python 3",
   "language": "python",
   "name": "python3"
  },
  "language_info": {
   "codemirror_mode": {
    "name": "ipython",
    "version": 3
   },
   "file_extension": ".py",
   "mimetype": "text/x-python",
   "name": "python",
   "nbconvert_exporter": "python",
   "pygments_lexer": "ipython3",
   "version": "3.8.5"
  }
 },
 "nbformat": 4,
 "nbformat_minor": 5
}
